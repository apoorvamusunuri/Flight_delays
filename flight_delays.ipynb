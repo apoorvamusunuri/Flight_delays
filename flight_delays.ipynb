{
 "cells": [
  {
   "cell_type": "code",
   "execution_count": 56,
   "metadata": {
    "collapsed": false
   },
   "outputs": [],
   "source": [
    "import pandas as pd\n",
    "from sklearn.naive_bayes import GaussianNB\n",
    "import csv\n",
    "\n",
    "airlines=pd.read_csv('airlines.csv')\n",
    "airports = pd.read_csv('airports.csv')\n",
    "flights = pd.read_csv('flights.csv')"
   ]
  },
  {
   "cell_type": "code",
   "execution_count": 57,
   "metadata": {
    "collapsed": false
   },
   "outputs": [
    {
     "name": "stdout",
     "output_type": "stream",
     "text": [
      "483.00 MB\n",
      "0.00 MB\n",
      "0.00 MB\n"
     ]
    }
   ],
   "source": [
    "def mem_usage(pandas_obj):\n",
    "    if isinstance(pandas_obj,pd.DataFrame):\n",
    "        usage_b = pandas_obj.memory_usage(deep=True).sum()\n",
    "    else: # we assume if not a df it's a series\n",
    "        usage_b = pandas_obj.memory_usage(deep=True)\n",
    "    usage_mb = usage_b / 1024 ** 2 # convert bytes to megabytes\n",
    "    return \"{:03.2f} MB\".format(usage_mb)\n",
    "\n",
    "#selecting and downsizing columns of type int:\n",
    "flights_int = flights.select_dtypes(include=['int'])\n",
    "flights_int = flights_int.apply(pd.to_numeric,downcast='unsigned')\n",
    "\n",
    "#selecting and downsizing columns of type float:\n",
    "flights_float = flights.select_dtypes(include=['float'])\n",
    "flights_float = flights_float.apply(pd.to_numeric,downcast='float')\n",
    "\n",
    "#selecting and factorizing columns of type object, where column has <50% of unique values:\n",
    "flights_obj = flights.select_dtypes(include=['object']).copy()\n",
    "\n",
    "for col in flights_obj.columns:\n",
    "    num_unique_values = len(flights_obj[col].unique())\n",
    "    num_total_values = len(flights_obj[col])\n",
    "    if num_unique_values / num_total_values < 0.5:\n",
    "        flights_obj.loc[:,col] = flights_obj[col].astype('category')\n",
    "    else:\n",
    "        flights_obj.loc[:,col] = flights_obj[col]\n",
    "\n",
    "\n",
    "flights[flights_int.columns] = flights_int\n",
    "flights[flights_float.columns] = flights_float\n",
    "flights[flights_obj.columns] = flights_obj\n",
    "\n",
    "#airlines:\n",
    "#selecting and factorizing columns of type object, where column has <50% of unique values:\n",
    "airlines_obj = airlines.select_dtypes(include=['object']).copy()\n",
    "\n",
    "for col in airlines_obj.columns:\n",
    "    num_unique_values_airl = len(airlines_obj[col].unique())\n",
    "    num_total_values_airl = len(airlines_obj[col])\n",
    "    if num_unique_values_airl / num_total_values_airl < 0.5:\n",
    "        airlines_obj.loc[:,col] = airlines_obj[col].astype('category')\n",
    "    else:\n",
    "        airlines_obj.loc[:,col] = airlines_obj[col]\n",
    "\n",
    "\n",
    "airlines[airlines_obj.columns] = airlines_obj\n",
    "\n",
    "#airports:\n",
    "#selecting and downsizing columns of type float:\n",
    "airports_float = airports.select_dtypes(include=['float'])\n",
    "airports_float = airports_float.apply(pd.to_numeric,downcast='float')\n",
    "\n",
    "#selecting and factorizing columns of type object, where column has <50% of unique values:\n",
    "airports_obj = airports.select_dtypes(include=['object']).copy()\n",
    "\n",
    "for col in airports_obj.columns:\n",
    "    num_unique_values = len(airports_obj[col].unique())\n",
    "    num_total_values = len(airports_obj[col])\n",
    "    if num_unique_values / num_total_values < 0.5:\n",
    "        airports_obj.loc[:,col] = airports_obj[col].astype('category')\n",
    "    else:\n",
    "        airports_obj.loc[:,col] = airports_obj[col]\n",
    "\n",
    "airports[airports_float.columns] = airports_float\n",
    "airports[airports_obj.columns] = airports_obj\n",
    "\n",
    "print(mem_usage(flights))\n",
    "print(mem_usage(airlines))\n",
    "print(mem_usage(airports))"
   ]
  },
  {
   "cell_type": "code",
   "execution_count": 58,
   "metadata": {
    "collapsed": false
   },
   "outputs": [],
   "source": [
    "flights = pd.merge(flights, airlines, how = 'left', left_on = 'AIRLINE', right_on = 'IATA_CODE', sort = False)\n",
    "flights = pd.merge(flights, airports, how = 'left', left_on = 'ORIGIN_AIRPORT', right_on = 'IATA_CODE', sort = False, suffixes = ('_x','_orig'))\n",
    "flights = pd.merge(flights, airports, how = 'left', left_on = 'DESTINATION_AIRPORT', right_on = 'IATA_CODE', sort = False, suffixes = ('_x','_dest'))"
   ]
  },
  {
   "cell_type": "code",
   "execution_count": 61,
   "metadata": {
    "collapsed": false
   },
   "outputs": [
    {
     "data": {
      "text/plain": [
       "'716.00 MB'"
      ]
     },
     "execution_count": 61,
     "metadata": {},
     "output_type": "execute_result"
    }
   ],
   "source": [
    "mem_usage(flights)"
   ]
  },
  {
   "cell_type": "code",
   "execution_count": 60,
   "metadata": {
    "collapsed": true
   },
   "outputs": [],
   "source": [
    "#selecting and downsizing columns of type int:\n",
    "flights_int = flights.select_dtypes(include=['int'])\n",
    "flights_int = flights_int.apply(pd.to_numeric,downcast='unsigned')\n",
    "\n",
    "#selecting and downsizing columns of type float:\n",
    "flights_float = flights.select_dtypes(include=['float'])\n",
    "flights_float = flights_float.apply(pd.to_numeric,downcast='float')\n",
    "\n",
    "#selecting and factorizing columns of type object, where column has <50% of unique values:\n",
    "flights_obj = flights.select_dtypes(include=['object']).copy()\n",
    "\n",
    "for col in flights_obj.columns:\n",
    "    num_unique_values = len(flights_obj[col].unique())\n",
    "    num_total_values = len(flights_obj[col])\n",
    "    if num_unique_values / num_total_values < 0.5:\n",
    "        flights_obj.loc[:,col] = flights_obj[col].astype('category')\n",
    "    else:\n",
    "        flights_obj.loc[:,col] = flights_obj[col]\n",
    "\n",
    "\n",
    "flights[flights_int.columns] = flights_int\n",
    "flights[flights_float.columns] = flights_float\n",
    "flights[flights_obj.columns] = flights_obj"
   ]
  },
  {
   "cell_type": "code",
   "execution_count": 69,
   "metadata": {
    "collapsed": false
   },
   "outputs": [
    {
     "name": "stdout",
     "output_type": "stream",
     "text": [
      "Index([u'YEAR', u'MONTH', u'DAY', u'DAY_OF_WEEK', u'AIRLINE_x',\n",
      "       u'FLIGHT_NUMBER', u'TAIL_NUMBER', u'ORIGIN_AIRPORT',\n",
      "       u'DESTINATION_AIRPORT', u'SCHEDULED_DEPARTURE', u'DEPARTURE_TIME',\n",
      "       u'DEPARTURE_DELAY', u'TAXI_OUT', u'WHEELS_OFF', u'SCHEDULED_TIME',\n",
      "       u'ELAPSED_TIME', u'AIR_TIME', u'DISTANCE', u'WHEELS_ON', u'TAXI_IN',\n",
      "       u'SCHEDULED_ARRIVAL', u'ARRIVAL_TIME', u'ARRIVAL_DELAY', u'DIVERTED',\n",
      "       u'CANCELLED', u'CANCELLATION_REASON', u'AIR_SYSTEM_DELAY',\n",
      "       u'SECURITY_DELAY', u'AIRLINE_DELAY', u'LATE_AIRCRAFT_DELAY',\n",
      "       u'WEATHER_DELAY', u'IATA_CODE_x', u'AIRLINE_y', u'IATA_CODE_orig',\n",
      "       u'AIRPORT_x', u'CITY_x', u'STATE_x', u'COUNTRY_x', u'LATITUDE_x',\n",
      "       u'LONGITUDE_x', u'IATA_CODE', u'AIRPORT_dest', u'CITY_dest',\n",
      "       u'STATE_dest', u'COUNTRY_dest', u'LATITUDE_dest', u'LONGITUDE_dest'],\n",
      "      dtype='object')\n"
     ]
    }
   ],
   "source": [
    "print(flights.columns)\n",
    "from sklearn.model_selection import train_test_split\n",
    "\n",
    "test,train = train_test_split(flights, test_size = 0.25)"
   ]
  },
  {
   "cell_type": "code",
   "execution_count": 149,
   "metadata": {
    "collapsed": false
   },
   "outputs": [
    {
     "data": {
      "text/plain": [
       "5157185    2215\n",
       "3015103    1720\n",
       "5251887     720\n",
       "833924     1759\n",
       "2628762    1405\n",
       "Name: SCHEDULED_DEPARTURE, dtype: uint16"
      ]
     },
     "execution_count": 149,
     "metadata": {},
     "output_type": "execute_result"
    }
   ],
   "source": [
    "train['SCHEDULED_DEPARTURE'].head()"
   ]
  },
  {
   "cell_type": "code",
   "execution_count": 155,
   "metadata": {
    "collapsed": false
   },
   "outputs": [
    {
     "name": "stderr",
     "output_type": "stream",
     "text": [
      "/Users/apoorvamusunuri/anaconda/lib/python2.7/site-packages/IPython/kernel/__main__.py:2: SettingWithCopyWarning: \n",
      "A value is trying to be set on a copy of a slice from a DataFrame.\n",
      "Try using .loc[row_indexer,col_indexer] = value instead\n",
      "\n",
      "See the caveats in the documentation: http://pandas.pydata.org/pandas-docs/stable/indexing.html#indexing-view-versus-copy\n",
      "  from IPython.kernel.zmq import kernelapp as app\n",
      "/Users/apoorvamusunuri/anaconda/lib/python2.7/site-packages/IPython/kernel/__main__.py:8: SettingWithCopyWarning: \n",
      "A value is trying to be set on a copy of a slice from a DataFrame.\n",
      "Try using .loc[row_indexer,col_indexer] = value instead\n",
      "\n",
      "See the caveats in the documentation: http://pandas.pydata.org/pandas-docs/stable/indexing.html#indexing-view-versus-copy\n"
     ]
    }
   ],
   "source": [
    "train_x = train[['YEAR','MONTH','DAY','DAY_OF_WEEK', 'AIRLINE_x', 'STATE_x', 'STATE_dest','SCHEDULED_DEPARTURE']]\n",
    "train_x['SCHEDULED_DEPARTURE'] = train_x['SCHEDULED_DEPARTURE'].apply(lambda x: 1 if x > 360 & x < 660 else 2 if x < 960 else 3 if x < 1380 else 4)\n",
    "train_y = train[['ARRIVAL_DELAY']]\n",
    "#print(train_x.head())\n",
    "#print(train_y.head())\n",
    "\n",
    "test_x = test[['YEAR','MONTH','DAY','DAY_OF_WEEK', 'AIRLINE_x', 'STATE_x', 'STATE_dest','SCHEDULED_DEPARTURE']]\n",
    "test_x['SCHEDULED_DEPARTURE'] = test_x['SCHEDULED_DEPARTURE'].apply(lambda x: 1 if x > 360 & x < 660 else 2 if x < 960 else 3 if x < 1380 else 4)\n",
    "test_y = test[['ARRIVAL_DELAY']]"
   ]
  },
  {
   "cell_type": "code",
   "execution_count": 156,
   "metadata": {
    "collapsed": false
   },
   "outputs": [
    {
     "name": "stdout",
     "output_type": "stream",
     "text": [
      "<class 'pandas.core.frame.DataFrame'>\n",
      "Int64Index: 4364309 entries, 5095081 to 1208655\n",
      "Data columns (total 8 columns):\n",
      "YEAR                   uint16\n",
      "MONTH                  uint8\n",
      "DAY                    uint8\n",
      "DAY_OF_WEEK            uint8\n",
      "AIRLINE_x              category\n",
      "STATE_x                category\n",
      "STATE_dest             category\n",
      "SCHEDULED_DEPARTURE    int64\n",
      "dtypes: category(3), int64(1), uint16(1), uint8(3)\n",
      "memory usage: 99.9 MB\n"
     ]
    }
   ],
   "source": [
    "test_x.info(memory_usage = 'deep')"
   ]
  },
  {
   "cell_type": "code",
   "execution_count": 157,
   "metadata": {
    "collapsed": false
   },
   "outputs": [],
   "source": [
    "import numpy as np\n",
    "from sklearn import preprocessing\n",
    "\n",
    "le = preprocessing.LabelEncoder()\n",
    "\n",
    "for col in train_x.columns:\n",
    "    if train_x[col].dtype.name == 'category':\n",
    "        train_x.loc[:,col] = le.fit_transform(train_x[col])\n",
    "        \n",
    "#selecting and downsizing columns of type int:\n",
    "train_x_int = train_x.select_dtypes(include=['int'])\n",
    "train_x_int = train_x_int.apply(pd.to_numeric,downcast='unsigned')\n",
    "train_x[train_x_int.columns] = train_x_int\n",
    "\n",
    "train_y.fillna(0, inplace = True)"
   ]
  },
  {
   "cell_type": "code",
   "execution_count": 158,
   "metadata": {
    "collapsed": false
   },
   "outputs": [],
   "source": [
    "for col in test_x.columns:\n",
    "    if test_x[col].dtype.name == 'category':\n",
    "        test_x.loc[:,col] = le.fit_transform(test_x[col])\n",
    "        \n",
    "#selecting and downsizing columns of type int:\n",
    "test_x_int = test_x.select_dtypes(include=['int'])\n",
    "test_x_int = test_x_int.apply(pd.to_numeric,downcast='unsigned')\n",
    "test_x[test_x_int.columns] = test_x_int\n",
    "\n",
    "test_y.fillna(0, inplace = True)"
   ]
  },
  {
   "cell_type": "code",
   "execution_count": null,
   "metadata": {
    "collapsed": false
   },
   "outputs": [],
   "source": [
    "from sklearn.naive_bayes import GaussianNB\n",
    "gnb = GaussianNB()\n",
    "\n",
    "gnb.fit(train_x,train_y)\n",
    "prediction = gnb.predict(test_x)\n",
    "\n",
    "test_df =  pd.DataFrame(data = prediction,columns= ['prediction'])\n",
    "\n",
    "final = pd.DataFrame(data = test_x)\n",
    "\n",
    "final['Arrival_delay'] = test_df['prediction']\n",
    "final.head()"
   ]
  },
  {
   "cell_type": "code",
   "execution_count": null,
   "metadata": {
    "collapsed": true
   },
   "outputs": [],
   "source": [
    "print(\"Number of mislabeled points out of a total %d points : %d\" % (test_x.shape[0],(test_y != prediction).sum()))"
   ]
  }
 ],
 "metadata": {
  "kernelspec": {
   "display_name": "Python 2",
   "language": "python",
   "name": "python2"
  },
  "language_info": {
   "codemirror_mode": {
    "name": "ipython",
    "version": 2
   },
   "file_extension": ".py",
   "mimetype": "text/x-python",
   "name": "python",
   "nbconvert_exporter": "python",
   "pygments_lexer": "ipython2",
   "version": "2.7.13"
  }
 },
 "nbformat": 4,
 "nbformat_minor": 0
}
